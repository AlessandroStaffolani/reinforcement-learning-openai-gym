{
 "cells": [
  {
   "cell_type": "markdown",
   "metadata": {
    "collapsed": true
   },
   "source": [
    "# DQN Atari Games\n"
   ]
  },
  {
   "cell_type": "code",
   "execution_count": 1,
   "metadata": {},
   "outputs": [],
   "source": [
    "%matplotlib inline\n",
    "\n",
    "import gym\n",
    "import numpy as np\n",
    "import pandas as pd\n",
    "from matplotlib import pyplot as plt\n",
    "from collections import namedtuple\n",
    "import math\n",
    "import random\n",
    "\n",
    "import torch\n",
    "import torch.nn as nn\n",
    "\n",
    "# from preprocessing.atari import preprocess_breakout\n",
    "# from models.dqn import AtariDQN"
   ]
  },
  {
   "cell_type": "markdown",
   "metadata": {},
   "source": [
    "### Global parameters"
   ]
  },
  {
   "cell_type": "code",
   "execution_count": 2,
   "metadata": {},
   "outputs": [],
   "source": [
    "ENV_NAME = 'Breakout-v0'\n",
    "\n",
    "N_EPISODES = 10\n",
    "D = (1, 80, 80)  # Dimension of the frame after preprocessing BCHW\n",
    "\n",
    "FIG_SIZE = (15, 8)  # Usefull for stats plotting\n",
    "USE_CUDA = False\n",
    "RENDER_ENV = True\n",
    "\n",
    "EPS_START = 0.9\n",
    "EPS_END = 0.05\n",
    "EPS_DECAY = 200\n",
    "\n",
    "Stats = namedtuple('Stats', ('episode_lengths', 'episode_rewards'))\n",
    "\n",
    "device = torch.device(\"cuda\" if USE_CUDA else \"cpu\")"
   ]
  },
  {
   "cell_type": "code",
   "execution_count": 3,
   "metadata": {},
   "outputs": [
    {
     "name": "stdout",
     "output_type": "stream",
     "text": [
      "(1, 1, 80, 80)\n"
     ]
    }
   ],
   "source": [
    "space = (1, *D)\n",
    "print(space)"
   ]
  },
  {
   "cell_type": "markdown",
   "metadata": {},
   "source": [
    "### Init the env"
   ]
  },
  {
   "cell_type": "code",
   "execution_count": 4,
   "metadata": {},
   "outputs": [],
   "source": [
    "env = gym.make(ENV_NAME)"
   ]
  },
  {
   "cell_type": "markdown",
   "metadata": {},
   "source": [
    "### Define the NNs"
   ]
  },
  {
   "cell_type": "code",
   "execution_count": 5,
   "metadata": {},
   "outputs": [],
   "source": [
    "class AtariDQN(nn.Module):\n",
    "\n",
    "    def __init__(self, input_shape, n_actions):\n",
    "        \"\"\"\n",
    "        Deep-Q-Network (DQN) is composed of:\n",
    "            - 3 convolution layers\n",
    "            - 2 fully-connected linear layers\n",
    "            \"\"\"\n",
    "\n",
    "        super(AtariDQN, self).__init__()\n",
    "\n",
    "        self.conv = nn.Sequential(\n",
    "            nn.Conv2d(input_shape[0], 32, kernel_size=8, stride=4),\n",
    "            nn.ReLU(),\n",
    "            nn.Dropout(0.2),\n",
    "            nn.Conv2d(32, 64, kernel_size=4, stride=2),\n",
    "            nn.ReLU(),\n",
    "            nn.Dropout(0.2),\n",
    "            nn.Conv2d(64, 64, kernel_size=3, stride=1),\n",
    "            nn.ReLU(),\n",
    "            nn.Dropout(0.2)\n",
    "        )\n",
    "\n",
    "        conv_out_size = self._get_conv_out(input_shape)\n",
    "        self.fc = nn.Sequential(\n",
    "            nn.Linear(conv_out_size, 512),\n",
    "            nn.ReLU(),\n",
    "            nn.Dropout(0.2),\n",
    "            nn.Linear(512, n_actions)\n",
    "        )\n",
    "\n",
    "    def _get_conv_out(self, shape):\n",
    "        o = self.conv(torch.zeros(1, *shape))  # Compute the output of the conv part of the network to find its final dimension\n",
    "        return int(np.prod(o.size()))\n",
    "\n",
    "    def forward(self, x):\n",
    "        conv_out = self.conv(x).view(x.size()[0], -1)\n",
    "        return self.fc(conv_out)"
   ]
  },
  {
   "cell_type": "markdown",
   "metadata": {},
   "source": [
    "### Initialize the NNs"
   ]
  },
  {
   "cell_type": "code",
   "execution_count": 6,
   "metadata": {},
   "outputs": [
    {
     "name": "stdout",
     "output_type": "stream",
     "text": [
      "AtariDQN(\n",
      "  (conv): Sequential(\n",
      "    (0): Conv2d(1, 32, kernel_size=(8, 8), stride=(4, 4))\n",
      "    (1): ReLU()\n",
      "    (2): Dropout(p=0.2, inplace=False)\n",
      "    (3): Conv2d(32, 64, kernel_size=(4, 4), stride=(2, 2))\n",
      "    (4): ReLU()\n",
      "    (5): Dropout(p=0.2, inplace=False)\n",
      "    (6): Conv2d(64, 64, kernel_size=(3, 3), stride=(1, 1))\n",
      "    (7): ReLU()\n",
      "    (8): Dropout(p=0.2, inplace=False)\n",
      "  )\n",
      "  (fc): Sequential(\n",
      "    (0): Linear(in_features=2304, out_features=512, bias=True)\n",
      "    (1): ReLU()\n",
      "    (2): Dropout(p=0.2, inplace=False)\n",
      "    (3): Linear(in_features=512, out_features=4, bias=True)\n",
      "  )\n",
      ")\n",
      "AtariDQN(\n",
      "  (conv): Sequential(\n",
      "    (0): Conv2d(1, 32, kernel_size=(8, 8), stride=(4, 4))\n",
      "    (1): ReLU()\n",
      "    (2): Dropout(p=0.2, inplace=False)\n",
      "    (3): Conv2d(32, 64, kernel_size=(4, 4), stride=(2, 2))\n",
      "    (4): ReLU()\n",
      "    (5): Dropout(p=0.2, inplace=False)\n",
      "    (6): Conv2d(64, 64, kernel_size=(3, 3), stride=(1, 1))\n",
      "    (7): ReLU()\n",
      "    (8): Dropout(p=0.2, inplace=False)\n",
      "  )\n",
      "  (fc): Sequential(\n",
      "    (0): Linear(in_features=2304, out_features=512, bias=True)\n",
      "    (1): ReLU()\n",
      "    (2): Dropout(p=0.2, inplace=False)\n",
      "    (3): Linear(in_features=512, out_features=4, bias=True)\n",
      "  )\n",
      ")\n"
     ]
    }
   ],
   "source": [
    "policy_net = AtariDQN(D, env.action_space.n).to(device)\n",
    "state_value_net = AtariDQN(D, env.action_space.n).to(device)\n",
    "\n",
    "print(policy_net)\n",
    "print(state_value_net)"
   ]
  },
  {
   "cell_type": "markdown",
   "metadata": {},
   "source": [
    "### Preprocessing for game frames"
   ]
  },
  {
   "cell_type": "code",
   "execution_count": 7,
   "metadata": {},
   "outputs": [],
   "source": [
    "def preprocess_breakout(image):\n",
    "    image = image[32: 192]  # Crop the not necessary part of the image\n",
    "    image = image[::2, ::2, ::3]\n",
    "    image[image != 0] = 1\n",
    "    image = np.expand_dims(np.rollaxis(image, 2, 0), axis=0)\n",
    "    return torch.from_numpy(image).type(torch.float)"
   ]
  },
  {
   "cell_type": "markdown",
   "metadata": {},
   "source": [
    "### Define the game Agent"
   ]
  },
  {
   "cell_type": "code",
   "execution_count": 8,
   "metadata": {},
   "outputs": [],
   "source": [
    "class BreakoutAgent:\n",
    "\n",
    "    def __init__(self,\n",
    "                 env,\n",
    "                 state_shape=(1, 80, 80),\n",
    "                 render_env=False,\n",
    "                 epsilon_start=0.9,\n",
    "                 epsilon_end=0.05,\n",
    "                 epsilon_decay=200\n",
    "                 ):\n",
    "        self.env = env\n",
    "        self.state_shape = state_shape\n",
    "        self.render_env = render_env\n",
    "        self.epsilon_start = epsilon_start\n",
    "        self.epsilon_end = epsilon_end\n",
    "        self.epsilon_decay = epsilon_decay\n",
    "        self.epsilon = epsilon_start\n",
    "\n",
    "    def _update_espilon(self, steps_done):\n",
    "        self.epsilon = self.epsilon_end + (self.epsilon_start - self.epsilon_end) * \\\n",
    "                       math.exp(-1. * steps_done / self.epsilon_decay)\n",
    "\n",
    "    def reset(self):\n",
    "        return preprocess_breakout(self.env.reset())\n",
    "\n",
    "    def render(self):\n",
    "        if self.render_env:\n",
    "            return self.env.render()\n",
    "        else:\n",
    "            return None\n",
    "\n",
    "    def choose_action(self, state, policy_net, steps_done):\n",
    "        # Update epsilon\n",
    "        self._update_espilon(steps_done)\n",
    "        sample = random.random()\n",
    "\n",
    "        if sample < self.epsilon:\n",
    "            # Perform a random action selection\n",
    "            return random.randrange(self.env.action_space.n)\n",
    "        else:\n",
    "            # Choose an action accordingly to the policy parameterization\n",
    "            # -> choose the action with the highest probability accordingly the policy\n",
    "            with torch.no_grad():\n",
    "                # Feed the policy network with the state -> obtain the probability for each action\n",
    "                action_prob = policy_net(state)\n",
    "                # t.max(1) compute the max and return a tuple (max_val, max_index)\n",
    "                # We need the action (so the index)\n",
    "                return action_prob.max(1)[1].item()\n",
    "\n",
    "    def act(self, action):\n",
    "        state, reward, done, info = self.env.step(action)\n",
    "        return preprocess_breakout(state), reward, done, info\n",
    "\n",
    "    def close(self):\n",
    "        return self.env.close()"
   ]
  },
  {
   "cell_type": "markdown",
   "metadata": {},
   "source": [
    "### Initiate the game Agent"
   ]
  },
  {
   "cell_type": "code",
   "execution_count": 9,
   "metadata": {},
   "outputs": [],
   "source": [
    "agent = BreakoutAgent(env, \n",
    "                      state_shape=D,\n",
    "                      render_env=RENDER_ENV,\n",
    "                      epsilon_start=EPS_START, \n",
    "                      epsilon_end=EPS_END,\n",
    "                      epsilon_decay=EPS_DECAY\n",
    "                     )"
   ]
  },
  {
   "cell_type": "markdown",
   "metadata": {},
   "source": [
    "### Training loop"
   ]
  },
  {
   "cell_type": "code",
   "execution_count": 10,
   "metadata": {},
   "outputs": [
    {
     "name": "stdout",
     "output_type": "stream",
     "text": [
      "Episode terminated after 376 frames\n",
      "Episode terminated after 181 frames\n",
      "Episode terminated after 183 frames\n",
      "Episode terminated after 217 frames\n",
      "Episode terminated after 356 frames\n",
      "Episode terminated after 214 frames\n",
      "Episode terminated after 175 frames\n",
      "Episode terminated after 289 frames\n",
      "Episode terminated after 204 frames\n",
      "Episode terminated after 179 frames\n",
      "Stats(episode_lengths=array([375., 180., 182., 216., 355., 213., 174., 288., 203., 178.]), episode_rewards=array([4., 0., 0., 1., 3., 1., 0., 2., 0., 0.]))\n"
     ]
    }
   ],
   "source": [
    "\n",
    "episode_length = 0\n",
    "total_reward = np.zeros(N_EPISODES)\n",
    "\n",
    "stats = Stats(\n",
    "    episode_lengths=np.zeros(N_EPISODES),\n",
    "    episode_rewards=np.zeros(N_EPISODES)\n",
    ")\n",
    "\n",
    "last_state = None\n",
    "\n",
    "for i_episode in range(N_EPISODES):\n",
    "    done = False\n",
    "\n",
    "    # Reset the env after each episode termination\n",
    "    current_state = agent.reset()\n",
    "    state = current_state\n",
    "\n",
    "    while not done:\n",
    "        agent.render()\n",
    "        action = agent.choose_action(state=state, policy_net=policy_net, steps_done=episode_length)\n",
    "        current_state, reward, done, info = agent.act(action)\n",
    "\n",
    "        # Compute state difference between previous and current state\n",
    "        state = current_state - last_state if last_state is not None else torch.zeros((1, *D))\n",
    "        last_state = current_state\n",
    "\n",
    "        total_reward[i_episode] += reward\n",
    "\n",
    "        # print('Episode: {} | Reward: {} | Total episode reward: {} | Episodes total reward mean {} | Info: {}'\n",
    "        #      .format(i_episode + 1, reward, total_reward[i_episode], total_reward.mean(), info))\n",
    "        episode_length += 1\n",
    "\n",
    "    print('Episode terminated after {} frames'.format(episode_length + 1))\n",
    "    stats.episode_lengths[i_episode] = episode_length\n",
    "    stats.episode_rewards[i_episode] = total_reward[i_episode]\n",
    "    episode_length = 0\n",
    "    last_state = None\n",
    "\n",
    "agent.close()\n",
    "print(stats)\n"
   ]
  },
  {
   "cell_type": "markdown",
   "metadata": {},
   "source": [
    "### Show stats"
   ]
  },
  {
   "cell_type": "markdown",
   "metadata": {},
   "source": [
    "#### Episode length over time"
   ]
  },
  {
   "cell_type": "code",
   "execution_count": 11,
   "metadata": {},
   "outputs": [
    {
     "data": {
      "image/png": "[encoded data removed]",
      "text/plain": [
       "<Figure size 1080x576 with 1 Axes>"
      ]
     },
     "metadata": {
      "needs_background": "light"
     },
     "output_type": "display_data"
    }
   ],
   "source": [
    "fig1 = plt.figure(figsize=FIG_SIZE)\n",
    "plt.plot(stats.episode_lengths)\n",
    "plt.xlabel(\"Episode\")\n",
    "plt.ylabel(\"Episode Length\")\n",
    "plt.title(\"Episode Length over Time\")\n",
    "plt.show(fig1)"
   ]
  },
  {
   "cell_type": "markdown",
   "metadata": {},
   "source": [
    "#### Episode reward over time"
   ]
  },
  {
   "cell_type": "code",
   "execution_count": 12,
   "metadata": {},
   "outputs": [
    {
     "data": {
      "image/png": "[encoded data removed]",
      "text/plain": [
       "<Figure size 1080x576 with 1 Axes>"
      ]
     },
     "metadata": {
      "needs_background": "light"
     },
     "output_type": "display_data"
    }
   ],
   "source": [
    "fig2 = plt.figure(figsize=FIG_SIZE)\n",
    "smoothing_window = 1\n",
    "goal_value = None\n",
    "rewards_smoothed = pd.Series(stats.episode_rewards).rolling(smoothing_window, min_periods=smoothing_window).mean()\n",
    "plt.plot(rewards_smoothed)\n",
    "plt.xlabel(\"Episode\")\n",
    "plt.ylabel(\"Episode Reward (Smoothed)\")\n",
    "title = \"Episode Reward over Time (Smoothed over window size {})\".format(smoothing_window)\n",
    "\n",
    "if goal_value is not None:\n",
    "    plt.axhline(goal_value, color='g', linestyle='dashed')\n",
    "    title = \"Episode Reward over Time (Smoothed over window size\" \\\n",
    "            \" \" + str(smoothing_window) + \", goal value \" + str(goal_value) + \")\"\n",
    "\n",
    "plt.title(title)\n",
    "plt.show(fig2)"
   ]
  },
  {
   "cell_type": "code",
   "execution_count": null,
   "metadata": {},
   "outputs": [],
   "source": []
  }
 ],
 "metadata": {
  "kernelspec": {
   "display_name": "Python 3",
   "language": "python",
   "name": "python3"
  },
  "language_info": {
   "codemirror_mode": {
    "name": "ipython",
    "version": 3
   },
   "file_extension": ".py",
   "mimetype": "text/x-python",
   "name": "python",
   "nbconvert_exporter": "python",
   "pygments_lexer": "ipython3",
   "version": "3.7.0"
  }
 },
 "nbformat": 4,
 "nbformat_minor": 1
}
